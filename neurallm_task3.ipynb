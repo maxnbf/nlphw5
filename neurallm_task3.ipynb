{
 "cells": [
  {
   "cell_type": "markdown",
   "metadata": {},
   "source": [
    "Homework 5: Neural Language Models  (& 🎃 SpOoKy 👻 authors 🧟 data) - Task 3\n",
    "---"
   ]
  },
  {
   "cell_type": "markdown",
   "metadata": {},
   "source": [
    "Names & Sections\n",
    "----\n",
    "Names: __Tijana Cosic (4120) & Max Breslauer-Friedman (4120)__"
   ]
  },
  {
   "cell_type": "markdown",
   "metadata": {},
   "source": [
    "Task 3: Feedforward Neural Language Model (60 points)\n",
    "--------------------------\n",
    "\n",
    "For this task, you will create and train neural LMs for both your word-based embeddings and your character-based ones. You should write functions when appropriate to avoid excessive copy+pasting."
   ]
  },
  {
   "cell_type": "markdown",
   "metadata": {},
   "source": [
    "### a) First, encode  your text into integers (5 points)"
   ]
  },
  {
   "cell_type": "code",
   "execution_count": 1,
   "metadata": {},
   "outputs": [
    {
     "name": "stderr",
     "output_type": "stream",
     "text": [
      "[nltk_data] Downloading package punkt to /Users/maxnbf/nltk_data...\n",
      "[nltk_data]   Package punkt is already up-to-date!\n"
     ]
    }
   ],
   "source": [
    "# Importing utility functions from Keras\n",
    "import keras\n",
    "from keras.preprocessing.text import Tokenizer\n",
    "from keras.utils import to_categorical\n",
    "\n",
    "# necessary\n",
    "from keras.models import Sequential\n",
    "from keras.layers import Dense\n",
    "\n",
    "# optional\n",
    "# from keras.layers import Dropout\n",
    "\n",
    "# if you want fancy progress bars\n",
    "from tqdm import notebook\n",
    "from IPython.display import display\n",
    "\n",
    "# your other imports here\n",
    "import time\n",
    "import numpy as np\n",
    "import neurallm_utils as nutils"
   ]
  },
  {
   "cell_type": "code",
   "execution_count": 2,
   "metadata": {},
   "outputs": [],
   "source": [
    "# load in necessary data\n",
    "from gensim.models import KeyedVectors\n",
    "\n",
    "# abstract into util functions\n",
    "NGRAM = 3 # The ngram language model you want to train\n",
    "EMBEDDING_SAVE_FILE_WORD = \"spooky_embedding_word.txt\" # The file to save your word embeddings to\n",
    "EMBEDDING_SAVE_FILE_CHAR = \"spooky_embedding_char.txt\" # The file to save your word embeddings to\n",
    "TRAIN_FILE = 'spooky_author_train.csv' # The file to train your language model on\n",
    "\n",
    "# reads in the data tokenized by char and by word\n",
    "data_by_char = nutils.read_file_spooky(TRAIN_FILE, NGRAM, by_character=True)\n",
    "data_by_word = nutils.read_file_spooky(TRAIN_FILE, NGRAM, by_character=False)"
   ]
  },
  {
   "cell_type": "code",
   "execution_count": 3,
   "metadata": {},
   "outputs": [],
   "source": [
    "# constants you may find helpful. Edit as you would like.\n",
    "EMBEDDINGS_SIZE = 50\n",
    "NGRAM = 3 # The ngram language model you want to train"
   ]
  },
  {
   "cell_type": "code",
   "execution_count": 4,
   "metadata": {},
   "outputs": [],
   "source": [
    "# Initialize a Tokenizer and fit on your data\n",
    "# do this for both the word and character data\n",
    "\n",
    "# It is used to vectorize a text corpus. Here, it just creates a mapping from \n",
    "# word to a unique index. (Note: Indexing starts from 0)\n",
    "# Example:\n",
    "# tokenizer = Tokenizer()\n",
    "# tokenizer.fit_on_texts(data)\n",
    "# encoded = tokenizer.texts_to_sequences(data)\n",
    "\n",
    "char_tokenizer = Tokenizer()\n",
    "char_tokenizer.fit_on_texts(data_by_char)\n",
    "char_encoded = char_tokenizer.texts_to_sequences(data_by_char)\n",
    "\n",
    "word_tokenizer = Tokenizer()\n",
    "word_tokenizer.fit_on_texts(data_by_word)\n",
    "word_encoded = word_tokenizer.texts_to_sequences(data_by_word)"
   ]
  },
  {
   "cell_type": "code",
   "execution_count": 5,
   "metadata": {
    "scrolled": true
   },
   "outputs": [
    {
     "name": "stdout",
     "output_type": "stream",
     "text": [
      "Size of word index for character tokenizer:  60\n",
      "Size of word index for word tokenizer:  25374\n"
     ]
    }
   ],
   "source": [
    "# print out the size of the word index for each of your tokenizers\n",
    "# this should match what you calculated in Task 2 with your embeddings\n",
    "print(\"Size of word index for character tokenizer: \", len(char_tokenizer.word_index))\n",
    "print(\"Size of word index for word tokenizer: \", len(word_tokenizer.word_index))"
   ]
  },
  {
   "cell_type": "markdown",
   "metadata": {},
   "source": [
    "### b) Next, prepare the sequences to train your model from text (5 points)"
   ]
  },
  {
   "cell_type": "markdown",
   "metadata": {},
   "source": [
    "#### Fixed n-gram based sequences"
   ]
  },
  {
   "cell_type": "raw",
   "metadata": {},
   "source": [
    "The training samples will be structured in the following format. \n",
    "Depening on which ngram model we choose, there will be (n-1) tokens \n",
    "in the input sequence (X) and we will need to predict the nth token (Y)\n",
    "\n",
    "            X,\t\t\t\t\t\t  y\n",
    "    this,    process                                    however\n",
    "    process, however                                    afforded\n",
    "    however, afforded\t                                me\n",
    "\n",
    "\n",
    "Our first step is to translate the text into sequences of numbers, \n",
    "one sequence per n-gram window."
   ]
  },
  {
   "cell_type": "code",
   "execution_count": 6,
   "metadata": {},
   "outputs": [
    {
     "name": "stdout",
     "output_type": "stream",
     "text": [
      "2957553\n",
      "634080\n"
     ]
    }
   ],
   "source": [
    "def generate_ngram_training_samples(encoded: list, ngram: int) -> list:\n",
    "    '''\n",
    "    Takes the encoded data (list of lists) and \n",
    "    generates the training samples out of it.\n",
    "    Parameters:\n",
    "    up to you, we've put in what we used\n",
    "    but you can add/remove as needed\n",
    "    return: \n",
    "    list of lists in the format [[x1, x2, ... , x(n-1), y], ...]\n",
    "    '''\n",
    "\n",
    "    # initializes an empty list to store the generated training samples\n",
    "    samples = []\n",
    "    \n",
    "    # loops through the encoded data and generates the ngrams from the current list\n",
    "    for e in encoded: \n",
    "        temp_list = []\n",
    "        \n",
    "        for i in range(len(e) - ngram + 1):\n",
    "            temp_list.append(e[i:i+ngram])\n",
    "        \n",
    "        # adds the generated ngrams from the current list to the samples list \n",
    "        samples.extend(temp_list)\n",
    "    \n",
    "    return samples\n",
    "\n",
    "# generates ngram training samples for both char and word tokenization data\n",
    "char_samples = generate_ngram_training_samples(encoded=char_encoded, ngram=NGRAM)\n",
    "word_samples = generate_ngram_training_samples(encoded=word_encoded, ngram=NGRAM)\n",
    "\n",
    "print(len(char_samples))\n",
    "print(len(word_samples))\n",
    "\n",
    "# generate your training samples for both word and character data\n",
    "# print out the first 5 training samples for each\n",
    "# we have displayed the number of sequences\n",
    "# to expect for both characters and words\n",
    "#\n",
    "# Spooky data by character should give 2957553 sequences\n",
    "# [21, 21, 3]\n",
    "# [21, 3, 9]\n",
    "# [3, 9, 7]\n",
    "# ...\n",
    "# Spooky data by words should give 634080 sequences\n",
    "# [1, 1, 32]\n",
    "# [1, 32, 2956]\n",
    "# [32, 2956, 3]\n",
    "# ..."
   ]
  },
  {
   "cell_type": "markdown",
   "metadata": {},
   "source": [
    "### c) Then, split the sequences into X and y and create a Data Generator (20 points)"
   ]
  },
  {
   "cell_type": "markdown",
   "metadata": {},
   "source": []
  },
  {
   "cell_type": "code",
   "execution_count": 7,
   "metadata": {},
   "outputs": [
    {
     "name": "stdout",
     "output_type": "stream",
     "text": [
      "(634080, 2)\n",
      "(634080,)\n",
      "(2957553, 2)\n",
      "(2957553,)\n"
     ]
    }
   ],
   "source": [
    "# 2.5 points\n",
    "\n",
    "# Note here that the sequences were in the form: \n",
    "# sequence = [x1, x2, ... , x(n-1), y]\n",
    "# We still need to separate it into [[x1, x2, ... , x(n-1)], ...], [y1, y2, ...]]\n",
    "# do that here\n",
    "\n",
    "def transform_seq_dimensions(samples: list):\n",
    "    '''\n",
    "    Takes the generated ngram training samples and\n",
    "    splits them into X and y.\n",
    "    Parameters:\n",
    "    samples : list of training samples\n",
    "    return: \n",
    "    X and y\n",
    "    '''\n",
    "    \n",
    "    # initializes both X and y to be empty lists at first\n",
    "    X = []\n",
    "    y = []\n",
    "\n",
    "    # for every sample, appends all elements of the current sample except for the last one to X,\n",
    "    # and appends the last element of the current sample to y  \n",
    "    for s in samples:\n",
    "        X.append(s[:-1])\n",
    "        y.append(s[-1])\n",
    "\n",
    "    return X, y\n",
    "\n",
    "# transforms both the char and word data into X and y\n",
    "X_char, y_char = transform_seq_dimensions(char_samples)\n",
    "X_word, y_word = transform_seq_dimensions(word_samples)\n",
    "\n",
    "print(np.array(X_word).shape)\n",
    "print(np.array(y_word).shape)\n",
    "print(np.array(X_char).shape)\n",
    "print(np.array(y_char).shape)"
   ]
  },
  {
   "cell_type": "code",
   "execution_count": 8,
   "metadata": {},
   "outputs": [],
   "source": [
    "# 2.5 points\n",
    "\n",
    "# Initialize a function that reads the word embeddings you saved earlier\n",
    "# and gives you back mappings from words to their embeddings and also \n",
    "# indexes from the tokenizers to their embeddings\n",
    "\n",
    "def read_embeddings(filename: str, tokenizer: Tokenizer) -> (dict, dict):\n",
    "    '''Loads and parses embeddings trained in earlier.\n",
    "    Parameters:\n",
    "        filename (str): path to file\n",
    "        Tokenizer: tokenizer used to tokenize the data (needed to get the word to index mapping)\n",
    "    Returns:\n",
    "        (dict): mapping from word to its embedding vector\n",
    "        (dict): mapping from index to its embedding vector\n",
    "    '''\n",
    "    \n",
    "    # loads the embeddings from the specified file\n",
    "    embedding = KeyedVectors.load_word2vec_format(filename, binary=False)\n",
    "\n",
    "    # initializes empty dictionaries to store the mappings\n",
    "    word_to_vector = {}\n",
    "    index_to_vector = {}\n",
    "    \n",
    "    # iterates through each index and word in the tokenizer's index_word mapping\n",
    "    for index, word in tokenizer.index_word.items():\n",
    "        # gets the vector that corresponds to the current word from the embeddings\n",
    "        vector = embedding[word]\n",
    "        # updates the word_to_vector dictionary with the current word and its vector\n",
    "        word_to_vector[word] = vector\n",
    "        # updates the index_to_vector dictionary with the current index and its vector\n",
    "        index_to_vector[index] = vector\n",
    "\n",
    "    return word_to_vector, index_to_vector\n",
    "\n",
    "# reads the word embeddings from earlier and gives back their mappings\n",
    "word_to_vector, word_index_to_vector = read_embeddings(EMBEDDING_SAVE_FILE_WORD, word_tokenizer)\n",
    "char_to_vector, char_index_to_vector = read_embeddings(EMBEDDING_SAVE_FILE_CHAR, char_tokenizer)"
   ]
  },
  {
   "cell_type": "code",
   "execution_count": 9,
   "metadata": {},
   "outputs": [
    {
     "data": {
      "text/plain": [
       "dict_keys([1, 2, 3, 4, 5, 6, 7, 8, 9, 10, 11, 12, 13, 14, 15, 16, 17, 18, 19, 20, 21, 22, 23, 24, 25, 26, 27, 28, 29, 30, 31, 32, 33, 34, 35, 36, 37, 38, 39, 40, 41, 42, 43, 44, 45, 46, 47, 48, 49, 50, 51, 52, 53, 54, 55, 56, 57, 58, 59, 60, 0])"
      ]
     },
     "execution_count": 9,
     "metadata": {},
     "output_type": "execute_result"
    }
   ],
   "source": [
    "# NECESSARY FOR CHARACTERS\n",
    "\n",
    "# the \"0\" index of the Tokenizer is assigned for the padding token. Initialize\n",
    "# the vector for padding token as all zeros of embedding size\n",
    "# this adds one to the number of embeddings that were initially saved\n",
    "# (and increases your vocab size by 1)\n",
    "\n",
    "# initializes an empty list for the padding tokens\n",
    "padding_token_vector = []\n",
    "\n",
    "# appends a 0 to the padding_token_vector for each iteration\n",
    "for x in range(EMBEDDINGS_SIZE):\n",
    "    padding_token_vector.append(0)\n",
    "\n",
    "# sets the value of the 0th index in the char_index_to_vector and word_index_to_vector\n",
    "# to the padding_token_vector\n",
    "char_index_to_vector[0] = padding_token_vector\n",
    "word_index_to_vector[0] = padding_token_vector\n",
    "\n",
    "# gets the keys of the char_index_to_vector dictionary\n",
    "char_index_to_vector.keys()"
   ]
  },
  {
   "cell_type": "code",
   "execution_count": 10,
   "metadata": {},
   "outputs": [],
   "source": [
    "# 10 points\n",
    "\n",
    "def data_generator(X: list, y: list, num_sequences_per_batch: int, index_2_embedding: dict) -> (list, list):\n",
    "    '''\n",
    "    Returns data generator to be used by feed_forward\n",
    "    https://wiki.python.org/moin/Generators\n",
    "    https://realpython.com/introduction-to-python-generators/\n",
    "    \n",
    "    Yields batches of embeddings and labels to go with them.\n",
    "    Use one hot vectors to encode the labels \n",
    "    (see the to_categorical function)\n",
    "    \n",
    "    If for_feedforward is True: \n",
    "    Returns data generator to be used by feed_forward\n",
    "    else: Returns data generator for RNN model\n",
    "    '''\n",
    "    \n",
    "    # initializes the index for iterating through the data\n",
    "    index = 0\n",
    "    \n",
    "    while True:\n",
    "\n",
    "        # this is the data in the form [[21, 21], [21, 3], [3, 9], ...]\n",
    "        embeddings = []\n",
    "        \n",
    "        # sets the starting and ending points for the current batch\n",
    "        start = index\n",
    "        end = min(index+num_sequences_per_batch, len(X))\n",
    "\n",
    "        # loops through the indices in X for the current batch\n",
    "        for indices in X[start:end]:\n",
    "            # initializes an empty list to store the current row of embeddings\n",
    "            row = []\n",
    "            \n",
    "            # extends the row with the corresponding embedding for each index  \n",
    "            for i in indices:  \n",
    "                row.extend(index_2_embedding[i])\n",
    "\n",
    "            # appends the row to the embeddings list for the current batch\n",
    "            embeddings.append(row)\n",
    "\n",
    "        vocab_len = len(index_2_embedding.keys())\n",
    "        \n",
    "        # uses one-hot encoding to represent the class labels\n",
    "        labels = to_categorical(y[start:end], num_classes=vocab_len)\n",
    "        \n",
    "        # reshape maintains the correct shape\n",
    "        yield (np.array(embeddings).reshape(len(embeddings), EMBEDDINGS_SIZE*(NGRAM-1)), np.array(labels))\n",
    "        \n",
    "        # updates the index for the next batch and ensures it doesn't go over the length of X\n",
    "        index += num_sequences_per_batch\n",
    "        index %= len(X)"
   ]
  },
  {
   "cell_type": "code",
   "execution_count": 11,
   "metadata": {},
   "outputs": [
    {
     "name": "stdout",
     "output_type": "stream",
     "text": [
      "(128, 100)\n",
      "(128, 25375)\n",
      "(128, 100)\n",
      "(128, 61)\n"
     ]
    }
   ],
   "source": [
    "# 5 points\n",
    "\n",
    "# initialize your data_generator for both word and character data\n",
    "# print out the shapes of the first batch to verify that it is correct for both word and character data\n",
    "\n",
    "# Examples:\n",
    "# num_sequences_per_batch = 128 # this is the batch size\n",
    "# steps_per_epoch = len(sequences)//num_sequences_per_batch # Number of batches per epoch\n",
    "# train_generator = data_generator(X, y, num_sequences_per_batch)\n",
    "\n",
    "# sample=next(train_generator) # this is how you get data out of generators\n",
    "# sample[0].shape # (batch_size, (n-1)*EMBEDDING_SIZE) (128, 200)\n",
    "# sample[1].shape # (batch_size, |V|) to_categorical\n",
    "\n",
    "# word data\n",
    "num_sequences_per_batch = 128 # this is the batch size\n",
    "steps_per_epoch_word = len(X_word)//num_sequences_per_batch # Number of batches per epoch\n",
    "train_generator_word = data_generator(X_word, y_word, num_sequences_per_batch, word_index_to_vector)\n",
    "\n",
    "sample = next(train_generator_word) # this is how you get data out of generators\n",
    "\n",
    "print(sample[0].shape)\n",
    "print(sample[1].shape)\n",
    "\n",
    "#sample[0].shape # (batch_size, (n-1)*EMBEDDING_SIZE) (128, 200)\n",
    "#sample[1].shape # (batch_size, |V|) to_categorical\n",
    "\n",
    "# character data\n",
    "steps_per_epoch_char = len(X_char)//num_sequences_per_batch # Number of batches per epoch\n",
    "train_generator_char = data_generator(X_char, y_char, num_sequences_per_batch, char_index_to_vector)\n",
    "\n",
    "sample = next(train_generator_char) # this is how you get data out of generators\n",
    "\n",
    "print(sample[0].shape)\n",
    "print(sample[1].shape)"
   ]
  },
  {
   "cell_type": "markdown",
   "metadata": {},
   "source": [
    "### d) Train & __save__ your models (15 points)"
   ]
  },
  {
   "cell_type": "code",
   "execution_count": 12,
   "metadata": {},
   "outputs": [
    {
     "name": "stdout",
     "output_type": "stream",
     "text": [
      "Model: \"sequential\"\n",
      "_________________________________________________________________\n",
      " Layer (type)                Output Shape              Param #   \n",
      "=================================================================\n",
      " dense (Dense)               (None, 128)               12928     \n",
      "                                                                 \n",
      " dense_1 (Dense)             (None, 64)                8256      \n",
      "                                                                 \n",
      " dense_2 (Dense)             (None, 25375)             1649375   \n",
      "                                                                 \n",
      "=================================================================\n",
      "Total params: 1670559 (6.37 MB)\n",
      "Trainable params: 1670559 (6.37 MB)\n",
      "Non-trainable params: 0 (0.00 Byte)\n",
      "_________________________________________________________________\n",
      "Model: \"sequential_1\"\n",
      "_________________________________________________________________\n",
      " Layer (type)                Output Shape              Param #   \n",
      "=================================================================\n",
      " dense_3 (Dense)             (None, 128)               12928     \n",
      "                                                                 \n",
      " dense_4 (Dense)             (None, 64)                8256      \n",
      "                                                                 \n",
      " dense_5 (Dense)             (None, 61)                3965      \n",
      "                                                                 \n",
      "=================================================================\n",
      "Total params: 25149 (98.24 KB)\n",
      "Trainable params: 25149 (98.24 KB)\n",
      "Non-trainable params: 0 (0.00 Byte)\n",
      "_________________________________________________________________\n"
     ]
    }
   ],
   "source": [
    "# 15 points \n",
    "\n",
    "# code to train a feedforward neural language model for \n",
    "# both word embeddings and character embeddings\n",
    "# make sure not to just copy + paste to train your two models\n",
    "# (define functions as needed)\n",
    "\n",
    "# train your models for between 3 & 5 epochs\n",
    "# on Felix's machine, this takes ~ 24 min for character embeddings and ~ 10 min for word embeddings\n",
    "# DO NOT EXPECT ACCURACIES OVER 0.5 (and even that is very for this many epochs)\n",
    "# We recommend starting by training for 1 epoch\n",
    "\n",
    "# Define your model architecture using Keras Sequential API\n",
    "# Use the adam optimizer instead of sgd\n",
    "# add cells as desired\n",
    "\n",
    "from keras.optimizers import Adam\n",
    "\n",
    "def build_nn(input_size: int, vocab_size: int) -> Sequential:\n",
    "    '''\n",
    "    Builds a neural network model.\n",
    "\n",
    "    Parameters:\n",
    "    input_size (int): The size of the input layer.\n",
    "    vocab_size (int): The size of the vocabulary.\n",
    "\n",
    "    Returns:\n",
    "    Sequential: A Keras Sequential model.\n",
    "    '''\n",
    "    \n",
    "    # initializes a Sequential model\n",
    "    model = Sequential()\n",
    "\n",
    "    # adds hidden layers\n",
    "    model.add(Dense(units=128, activation=\"elu\", input_shape=(input_size,)))\n",
    "    model.add(Dense(units=64, activation=\"elu\", input_shape=(input_size,)))\n",
    "\n",
    "    # adds an output layer\n",
    "    model.add(Dense(vocab_size, activation=\"softmax\"))\n",
    "\n",
    "    # shows the model's verbose\n",
    "    model.summary()\n",
    "\n",
    "    # calls compile here\n",
    "    model.compile(loss='categorical_crossentropy',\n",
    "                  optimizer=\"adam\",\n",
    "                  metrics=['accuracy'])\n",
    "\n",
    "    return model\n",
    "\n",
    "# builds the word and character neural models\n",
    "word_model = build_nn((NGRAM-1) * EMBEDDINGS_SIZE, len(word_index_to_vector.keys()))\n",
    "char_model = build_nn((NGRAM-1) * EMBEDDINGS_SIZE, len(char_index_to_vector.keys()))"
   ]
  },
  {
   "cell_type": "code",
   "execution_count": 13,
   "metadata": {},
   "outputs": [
    {
     "data": {
      "text/plain": [
       "25375"
      ]
     },
     "execution_count": 13,
     "metadata": {},
     "output_type": "execute_result"
    }
   ],
   "source": [
    "len(word_index_to_vector.keys())"
   ]
  },
  {
   "cell_type": "code",
   "execution_count": 14,
   "metadata": {},
   "outputs": [
    {
     "name": "stdout",
     "output_type": "stream",
     "text": [
      "Epoch 1/5\n",
      "4953/4953 [==============================] - 56s 11ms/step - loss: 5.6920 - accuracy: 0.1913\n",
      "Epoch 2/5\n",
      "4953/4953 [==============================] - 58s 12ms/step - loss: 5.2926 - accuracy: 0.2004\n",
      "Epoch 3/5\n",
      "4953/4953 [==============================] - 61s 12ms/step - loss: 5.1535 - accuracy: 0.2023\n",
      "Epoch 4/5\n",
      "4953/4953 [==============================] - 65s 13ms/step - loss: 5.0632 - accuracy: 0.2033\n",
      "Epoch 5/5\n",
      "4953/4953 [==============================] - 59s 12ms/step - loss: 5.0002 - accuracy: 0.2038\n"
     ]
    },
    {
     "data": {
      "text/plain": [
       "<keras.src.callbacks.History at 0x2e3b14f90>"
      ]
     },
     "execution_count": 14,
     "metadata": {},
     "output_type": "execute_result"
    }
   ],
   "source": [
    "# Here is some example code to train a model with a data generator\n",
    "# model.fit(x=train_generator, \n",
    "#           steps_per_epoch=steps_per_epoch,\n",
    "#           epochs=1)\n",
    "\n",
    "word_model.fit(x=train_generator_word, \n",
    "               steps_per_epoch=steps_per_epoch_word,\n",
    "               epochs=5)"
   ]
  },
  {
   "cell_type": "code",
   "execution_count": 15,
   "metadata": {},
   "outputs": [
    {
     "name": "stdout",
     "output_type": "stream",
     "text": [
      "Epoch 1/5\n",
      "23105/23105 [==============================] - 28s 1ms/step - loss: 2.0282 - accuracy: 0.3802\n",
      "Epoch 2/5\n",
      "23105/23105 [==============================] - 28s 1ms/step - loss: 1.9734 - accuracy: 0.3878\n",
      "Epoch 3/5\n",
      "23105/23105 [==============================] - 28s 1ms/step - loss: 1.9642 - accuracy: 0.3889\n",
      "Epoch 4/5\n",
      "23105/23105 [==============================] - 28s 1ms/step - loss: 1.9595 - accuracy: 0.3895\n",
      "Epoch 5/5\n",
      "23105/23105 [==============================] - 28s 1ms/step - loss: 1.9566 - accuracy: 0.3898\n"
     ]
    },
    {
     "data": {
      "text/plain": [
       "<keras.src.callbacks.History at 0x2e8823fd0>"
      ]
     },
     "execution_count": 15,
     "metadata": {},
     "output_type": "execute_result"
    }
   ],
   "source": [
    "char_model.fit(x=train_generator_char, \n",
    "               steps_per_epoch=steps_per_epoch_char,\n",
    "               epochs=5)"
   ]
  },
  {
   "cell_type": "code",
   "execution_count": 16,
   "metadata": {},
   "outputs": [],
   "source": [
    "# spooky data model by character for 5 epochs takes ~ 24 min on Felix's computer\n",
    "# with adam optimizer, gets accuracy of 0.3920\n",
    "\n",
    "# spooky data model by word for 5 epochs takes 10 min on Felix's computer\n",
    "# results in accuracy of 0.2110"
   ]
  },
  {
   "cell_type": "code",
   "execution_count": 17,
   "metadata": {},
   "outputs": [
    {
     "name": "stderr",
     "output_type": "stream",
     "text": [
      "/Users/maxnbf/anaconda3/lib/python3.11/site-packages/keras/src/engine/training.py:3079: UserWarning: You are saving your model as an HDF5 file via `model.save()`. This file format is considered legacy. We recommend using instead the native Keras format, e.g. `model.save('my_model.keras')`.\n",
      "  saving_api.save_model(\n"
     ]
    }
   ],
   "source": [
    "# save your trained models so you can re-load instead of re-training each time\n",
    "# also, you'll need these to generate your sentences!\n",
    "char_model.save(\"char_model.h5\")\n",
    "word_model.save(\"word_model.h5\")"
   ]
  },
  {
   "cell_type": "markdown",
   "metadata": {},
   "source": [
    "### e) Generate Sentences (15 points)"
   ]
  },
  {
   "cell_type": "code",
   "execution_count": 18,
   "metadata": {},
   "outputs": [],
   "source": [
    "# load your models if you need to\n",
    "word_model = keras.models.load_model(\"word_model.h5\")\n",
    "char_model = keras.models.load_model(\"char_model.h5\")"
   ]
  },
  {
   "cell_type": "code",
   "execution_count": 19,
   "metadata": {},
   "outputs": [],
   "source": [
    "# 10 points\n",
    "\n",
    "# generate a sequence from the model until you get an end of sentence token\n",
    "# This is an example function header you might use\n",
    "\n",
    "def generate_seq(model: Sequential, tokenizer: Tokenizer, seed: list, token_to_vector):\n",
    "    '''\n",
    "    Parameters:\n",
    "        model: your neural network\n",
    "        tokenizer: the keras preprocessing tokenizer\n",
    "        seed: [w1, w2, w(n-1)]\n",
    "    Returns: string sentence\n",
    "    '''\n",
    "    \n",
    "    # copies the contents of the seed list to generated_sequence\n",
    "    generated_sequence = seed.copy()\n",
    "\n",
    "    while True:\n",
    "        # selects the last two elements from the generated_sequence list\n",
    "        words = generated_sequence[-2:]\n",
    "\n",
    "        # assuming word_2_embedding is a pre-computed dictionary\n",
    "        vectors = []\n",
    "        for word in words:\n",
    "            # appends the corresponding vector representation of the word from token_to_vector \n",
    "            # to the vectors list\n",
    "            vectors.append(token_to_vector[word])\n",
    "\n",
    "        # converts the vectors list to an array\n",
    "        input_vec = np.array(vectors)\n",
    "\n",
    "        # adjusts input dimensions accordingly\n",
    "        test_sample = np.reshape(input_vec, [1, -1])\n",
    "\n",
    "        # predicts the next word\n",
    "        prediction = model.predict(test_sample, verbose=0)\n",
    "\n",
    "        # randomly chooses an index from a range determined by the length of the tokenizer.word_index + 1\n",
    "        # using the probabilities from the prediction array\n",
    "        index = np.random.choice(range(len(tokenizer.word_index) + 1), p=prediction[0])\n",
    "        \n",
    "        # gets the next word that corresponds to the selected index from the tokenizer\n",
    "        next_word = tokenizer.index_word[index]\n",
    "\n",
    "        generated_sequence.append(next_word)\n",
    "\n",
    "        # breaks the loop if next_word is equal to \"</s>\" \n",
    "        if next_word == \"</s>\":\n",
    "            break\n",
    "\n",
    "    # filters out the tokens \"<s>\" and \"</s>\" from the generated_sequence\n",
    "    result = list(filter(lambda token: token not in [\"<s>\", \"</s>\"], generated_sequence))\n",
    "        \n",
    "    # joins all elements together to create the resulting generated sequence\n",
    "    return \" \".join(result)"
   ]
  },
  {
   "cell_type": "code",
   "execution_count": 20,
   "metadata": {},
   "outputs": [
    {
     "name": "stdout",
     "output_type": "stream",
     "text": [
      "Sentence generated using word token model:\n",
      "we had hurt .\n",
      "Sentence generated using character token model:\n",
      "holeand, thown.\n"
     ]
    }
   ],
   "source": [
    "# 5 points\n",
    "\n",
    "# generate and display one sequence from both the word model and the character model\n",
    "# do not include <s> or </s> in your displayed sentences\n",
    "# make sure that you can read the output easily (i.e. don't just print out a list of tokens)\n",
    "\n",
    "# you may leave _ as _ or replace it with a space if you prefer\n",
    "\n",
    "print(\"Sentence generated using word token model:\")\n",
    "print(generate_seq(word_model, word_tokenizer, [\"<s>\", \"<s>\"], word_to_vector))\n",
    "\n",
    "print(\"Sentence generated using character token model:\")\n",
    "char_sentence = generate_seq(char_model, char_tokenizer, [\"<s>\", \"<s>\"], char_to_vector)\n",
    "char_sentence = char_sentence.replace(\" \", \"\")\n",
    "char_sentence = char_sentence.replace(\"_\", \" \")\n",
    "print(char_sentence)"
   ]
  },
  {
   "cell_type": "code",
   "execution_count": 21,
   "metadata": {},
   "outputs": [],
   "source": [
    "# generate 100 example sentences with each model and save them to a file, one sentence per line\n",
    "# do not include <s> and </s> in your saved sentences (you'll use these sentences in your next task)\n",
    "# this will produce two files, one for each model\n",
    "\n",
    "# names the file to save the word sentences to\n",
    "word_model_file = \"word_model_sentences.txt\"\n",
    "\n",
    "# writes 100 example sentences to the file\n",
    "with open(word_model_file, \"w\", encoding=\"utf-8\") as file:\n",
    "    for _ in range(100):\n",
    "        file.write(generate_seq(word_model, word_tokenizer, [\"<s>\", \"<s>\"], word_to_vector) + \"\\n\")"
   ]
  },
  {
   "cell_type": "code",
   "execution_count": 23,
   "metadata": {},
   "outputs": [
    {
     "name": "stdout",
     "output_type": "stream",
     "text": [
      "0\n",
      "1\n",
      "2\n",
      "3\n",
      "4\n",
      "5\n",
      "6\n",
      "7\n",
      "8\n",
      "9\n",
      "10\n",
      "11\n",
      "12\n",
      "13\n",
      "14\n",
      "15\n",
      "16\n",
      "17\n",
      "18\n",
      "19\n",
      "20\n",
      "21\n",
      "22\n",
      "23\n",
      "24\n",
      "25\n",
      "26\n",
      "27\n",
      "28\n",
      "29\n",
      "30\n",
      "31\n",
      "32\n",
      "33\n",
      "34\n",
      "35\n",
      "36\n",
      "37\n",
      "38\n",
      "39\n",
      "40\n",
      "41\n",
      "42\n",
      "43\n",
      "44\n",
      "45\n",
      "46\n",
      "47\n",
      "48\n",
      "49\n",
      "50\n",
      "51\n",
      "52\n",
      "53\n",
      "54\n",
      "55\n",
      "56\n",
      "57\n",
      "58\n",
      "59\n",
      "60\n",
      "61\n",
      "62\n",
      "63\n",
      "64\n",
      "65\n",
      "66\n",
      "67\n",
      "68\n",
      "69\n",
      "70\n",
      "71\n",
      "72\n",
      "73\n",
      "74\n",
      "75\n",
      "76\n",
      "77\n",
      "78\n",
      "79\n",
      "80\n",
      "81\n",
      "82\n",
      "83\n",
      "84\n",
      "85\n",
      "86\n",
      "87\n",
      "88\n",
      "89\n",
      "90\n",
      "91\n",
      "92\n",
      "93\n",
      "94\n",
      "95\n",
      "96\n",
      "97\n",
      "98\n",
      "99\n"
     ]
    }
   ],
   "source": [
    "# names the file to save the char sentences to\n",
    "char_model_file = \"char_model_sentences.txt\"\n",
    "\n",
    "# writes 100 example sentences to the file\n",
    "with open(char_model_file, \"w\", encoding=\"utf-8\") as file:\n",
    "    for _ in range(100):\n",
    "        char_sentence = generate_seq(char_model, char_tokenizer, [\"<s>\", \"<s>\"], char_to_vector)\n",
    "        char_sentence = char_sentence.replace(\" \", \"\")\n",
    "        char_sentence = char_sentence.replace(\"_\", \" \")\n",
    "        file.write(char_sentence + \"\\n\")"
   ]
  }
 ],
 "metadata": {
  "kernelspec": {
   "display_name": "Python 3 (ipykernel)",
   "language": "python",
   "name": "python3"
  },
  "language_info": {
   "codemirror_mode": {
    "name": "ipython",
    "version": 3
   },
   "file_extension": ".py",
   "mimetype": "text/x-python",
   "name": "python",
   "nbconvert_exporter": "python",
   "pygments_lexer": "ipython3",
   "version": "3.11.4"
  }
 },
 "nbformat": 4,
 "nbformat_minor": 2
}
